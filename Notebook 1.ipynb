{
  "cells": [
    {
      "cell_type": "code",
      "source": [
        "%%sql\n",
        "INSERT INTO `RetailDB`.`SalesOrder`\n",
        "VALUES (99999, CAST('2022-01-01' AS TimeStamp), 1, 6, 5, 1);\n"
      ],
      "outputs": [
        {
          "output_type": "display_data",
          "data": {
            "application/vnd.livy.statement-meta+json": {
              "spark_pool": "spark3gu05rn",
              "statement_id": 1,
              "statement_ids": [
                1
              ],
              "state": "finished",
              "livy_statement_state": "available",
              "spark_jobs": null,
              "session_id": "1",
              "normalized_state": "finished",
              "queued_time": "2025-04-04T21:59:04.2075906Z",
              "session_start_time": "2025-04-04T21:59:04.2087968Z",
              "execution_start_time": "2025-04-04T22:01:48.9182903Z",
              "execution_finish_time": "2025-04-04T22:02:22.1008695Z",
              "parent_msg_id": "c1c8ca96-2377-472a-ac82-bcdbef751168"
            },
            "text/plain": "StatementMeta(spark3gu05rn, 1, 1, Finished, Available, Finished)"
          },
          "metadata": {}
        },
        {
          "output_type": "execute_result",
          "execution_count": 5,
          "data": {
            "application/vnd.synapse.sparksql-result+json": {
              "schema": {
                "type": "struct",
                "fields": []
              },
              "data": []
            },
            "text/plain": "<Spark SQL result set with 0 rows and 0 fields>"
          },
          "metadata": {}
        }
      ],
      "execution_count": 5,
      "metadata": {
        "microsoft": {
          "language": "sparksql"
        },
        "collapsed": false
      }
    },
    {
      "cell_type": "code",
      "source": [
        "%%sql\n",
        "SELECT * FROM `RetailDB`.`SalesOrder`\n",
        "WHERE SalesOrderId = 99999;\n"
      ],
      "outputs": [
        {
          "output_type": "display_data",
          "data": {
            "application/vnd.livy.statement-meta+json": {
              "spark_pool": "spark3gu05rn",
              "statement_id": 2,
              "statement_ids": [
                2
              ],
              "state": "finished",
              "livy_statement_state": "available",
              "spark_jobs": null,
              "session_id": "1",
              "normalized_state": "finished",
              "queued_time": "2025-04-04T22:07:23.4867652Z",
              "session_start_time": null,
              "execution_start_time": "2025-04-04T22:07:23.4880473Z",
              "execution_finish_time": "2025-04-04T22:07:31.486798Z",
              "parent_msg_id": "f229e907-0c9a-40ca-90bd-e29ffcbd32e4"
            },
            "text/plain": "StatementMeta(spark3gu05rn, 1, 2, Finished, Available, Finished)"
          },
          "metadata": {}
        },
        {
          "output_type": "execute_result",
          "execution_count": 6,
          "data": {
            "application/vnd.synapse.sparksql-result+json": {
              "schema": {
                "type": "struct",
                "fields": [
                  {
                    "name": "SalesOrderId",
                    "type": "long",
                    "nullable": true,
                    "metadata": {}
                  },
                  {
                    "name": "OrderDate",
                    "type": "timestamp",
                    "nullable": true,
                    "metadata": {}
                  },
                  {
                    "name": "LineItemId",
                    "type": "long",
                    "nullable": true,
                    "metadata": {}
                  },
                  {
                    "name": "CustomerId",
                    "type": "long",
                    "nullable": true,
                    "metadata": {}
                  },
                  {
                    "name": "ProductId",
                    "type": "long",
                    "nullable": true,
                    "metadata": {}
                  },
                  {
                    "name": "Quantity",
                    "type": "long",
                    "nullable": true,
                    "metadata": {}
                  }
                ]
              },
              "data": [
                [
                  "99999",
                  "2022-01-01T00:00:00Z",
                  "1",
                  "6",
                  "5",
                  "1"
                ],
                [
                  "99999",
                  "2022-01-01T00:00:00Z",
                  "1",
                  "6",
                  "5",
                  "1"
                ],
                [
                  "99999",
                  "2022-01-01T00:00:00Z",
                  "1",
                  "6",
                  "5",
                  "1"
                ],
                [
                  "99999",
                  "2022-01-01T00:00:00Z",
                  "1",
                  "6",
                  "5",
                  "1"
                ]
              ]
            },
            "text/plain": "<Spark SQL result set with 4 rows and 6 fields>"
          },
          "metadata": {}
        }
      ],
      "execution_count": 6,
      "metadata": {
        "microsoft": {
          "language": "sparksql"
        },
        "collapsed": false
      }
    }
  ],
  "metadata": {
    "language_info": {
      "name": "python"
    },
    "kernelspec": {
      "name": "synapse_pyspark",
      "language": "Python",
      "display_name": "Synapse PySpark"
    },
    "kernel_info": {
      "name": "synapse_pyspark"
    },
    "save_output": true,
    "synapse_widget": {
      "version": "0.1",
      "state": {}
    }
  },
  "nbformat": 4,
  "nbformat_minor": 2
}